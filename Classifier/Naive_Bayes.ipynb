{
 "cells": [
  {
   "cell_type": "code",
   "execution_count": 3,
   "metadata": {},
   "outputs": [],
   "source": [
    "from sklearn.model_selection import train_test_split\n",
    "import json\n",
    "import pandas as pd\n",
    "from sklearn import preprocessing, model_selection, feature_extraction, naive_bayes, metrics"
   ]
  },
  {
   "cell_type": "markdown",
   "metadata": {},
   "source": [
    "## Naive Bayes"
   ]
  },
  {
   "cell_type": "markdown",
   "metadata": {},
   "source": [
    "- use the tfidf and naive bayes to split the dataset"
   ]
  },
  {
   "cell_type": "code",
   "execution_count": 4,
   "metadata": {},
   "outputs": [],
   "source": [
    "# Json to csv\n",
    "def json2df(json_obj):\n",
    "    \n",
    "    ls = []\n",
    "    for row in json_obj:\n",
    "        ls.append([\n",
    "            row['title'],\n",
    "            row['content'],\n",
    "            row['author'],\n",
    "            row['brand_id'],\n",
    "            row['date'],\n",
    "            row['url']\n",
    "        ])\n",
    "    \n",
    "    col = [\n",
    "            'title',\n",
    "            'content',\n",
    "            'author',\n",
    "            'date',\n",
    "            'url',\n",
    "            'brand_id'\n",
    "        ]\n",
    "    \n",
    "    return pd.DataFrame(ls, columns=col)"
   ]
  },
  {
   "cell_type": "code",
   "execution_count": 5,
   "metadata": {},
   "outputs": [],
   "source": [
    "# Import dataset\n",
    "\n",
    "## Read news\n",
    "with open('./data/real_news_dump.json') as file:\n",
    "    real_news = json.load(file)\n",
    "\n",
    "real_news_df = json2df(real_news)\n",
    "\n",
    "## Fake news\n",
    "with open('./data/fake_news_dump.json') as file:\n",
    "    fake_news = json.load(file)\n",
    "    \n",
    "fake_news_df = json2df(fake_news)"
   ]
  },
  {
   "cell_type": "code",
   "execution_count": 6,
   "metadata": {},
   "outputs": [
    {
     "data": {
      "text/html": [
       "<div>\n",
       "<style scoped>\n",
       "    .dataframe tbody tr th:only-of-type {\n",
       "        vertical-align: middle;\n",
       "    }\n",
       "\n",
       "    .dataframe tbody tr th {\n",
       "        vertical-align: top;\n",
       "    }\n",
       "\n",
       "    .dataframe thead th {\n",
       "        text-align: right;\n",
       "    }\n",
       "</style>\n",
       "<table border=\"1\" class=\"dataframe\">\n",
       "  <thead>\n",
       "    <tr style=\"text-align: right;\">\n",
       "      <th></th>\n",
       "      <th>title</th>\n",
       "      <th>content</th>\n",
       "      <th>author</th>\n",
       "      <th>date</th>\n",
       "      <th>url</th>\n",
       "      <th>brand_id</th>\n",
       "    </tr>\n",
       "  </thead>\n",
       "  <tbody>\n",
       "    <tr>\n",
       "      <th>0</th>\n",
       "      <td>謠傳碼頭公園有確診案例 調查局約談網友到案</td>\n",
       "      <td>（中央社記者蕭博文台北4日電）調查局今天表示，網路近期謠傳高雄港63號碼頭、台北青年公園出現...</td>\n",
       "      <td>中央社</td>\n",
       "      <td>9</td>\n",
       "      <td>2020-03-04</td>\n",
       "      <td>https://www.nownews.com/news/20200304/3968815/</td>\n",
       "    </tr>\n",
       "    <tr>\n",
       "      <th>1</th>\n",
       "      <td>好暖！高醫返國關懷門診　醫護人員進駐機場檢疫站守國門</td>\n",
       "      <td>武漢肺炎國際間疫情不斷擴大，包含韓國、義大利等多個國家被列入我國的旅遊疫情警告地區。高雄醫學...</td>\n",
       "      <td>記者陳美嘉／高雄報導</td>\n",
       "      <td>9</td>\n",
       "      <td>2020-03-04</td>\n",
       "      <td>https://www.nownews.com/news/20200304/3968420/</td>\n",
       "    </tr>\n",
       "    <tr>\n",
       "      <th>2</th>\n",
       "      <td>湯景華縱火奪6命遭判死  最高法院發回更審</td>\n",
       "      <td>（中央社記者蕭博文台北4日電）男子湯景華因細故縱火，導致翁家6人身亡，一審、二審、更一審皆被...</td>\n",
       "      <td>中央社</td>\n",
       "      <td>9</td>\n",
       "      <td>2020-03-04</td>\n",
       "      <td>https://www.nownews.com/news/20200304/3968749/</td>\n",
       "    </tr>\n",
       "    <tr>\n",
       "      <th>3</th>\n",
       "      <td>更生人車庫包水餃發跡 實現店面網路販售</td>\n",
       "      <td>（中央社記者劉世怡台北4日電）更生人郭珈瑋出獄後，在車庫包手工水餃起家，再透過圓夢創業小額貸...</td>\n",
       "      <td>中央社</td>\n",
       "      <td>9</td>\n",
       "      <td>2020-03-04</td>\n",
       "      <td>https://www.nownews.com/news/20200304/3968725/</td>\n",
       "    </tr>\n",
       "    <tr>\n",
       "      <th>4</th>\n",
       "      <td>黑心藥局囤貨　桃園市調處查獲97萬片醫療口罩</td>\n",
       "      <td>武漢肺炎疫情造成全台口罩慌，居然有不肖業者大量囤貨伺機牟利﹔調查局桃園巿調查處日前接獲情資，...</td>\n",
       "      <td>記者李春台 / 桃園報導</td>\n",
       "      <td>9</td>\n",
       "      <td>2020-02-06</td>\n",
       "      <td>https://www.nownews.com/news/20200206/3920699/</td>\n",
       "    </tr>\n",
       "  </tbody>\n",
       "</table>\n",
       "</div>"
      ],
      "text/plain": [
       "                        title  \\\n",
       "0       謠傳碼頭公園有確診案例 調查局約談網友到案   \n",
       "1  好暖！高醫返國關懷門診　醫護人員進駐機場檢疫站守國門   \n",
       "2       湯景華縱火奪6命遭判死  最高法院發回更審   \n",
       "3         更生人車庫包水餃發跡 實現店面網路販售   \n",
       "4      黑心藥局囤貨　桃園市調處查獲97萬片醫療口罩   \n",
       "\n",
       "                                             content           author  date  \\\n",
       "0  （中央社記者蕭博文台北4日電）調查局今天表示，網路近期謠傳高雄港63號碼頭、台北青年公園出現...  中央社                 9   \n",
       "1  武漢肺炎國際間疫情不斷擴大，包含韓國、義大利等多個國家被列入我國的旅遊疫情警告地區。高雄醫學...  記者陳美嘉／高雄報導          9   \n",
       "2  （中央社記者蕭博文台北4日電）男子湯景華因細故縱火，導致翁家6人身亡，一審、二審、更一審皆被...  中央社                 9   \n",
       "3  （中央社記者劉世怡台北4日電）更生人郭珈瑋出獄後，在車庫包手工水餃起家，再透過圓夢創業小額貸...  中央社                 9   \n",
       "4  武漢肺炎疫情造成全台口罩慌，居然有不肖業者大量囤貨伺機牟利﹔調查局桃園巿調查處日前接獲情資，...  記者李春台 / 桃園報導        9   \n",
       "\n",
       "          url                                        brand_id  \n",
       "0  2020-03-04  https://www.nownews.com/news/20200304/3968815/  \n",
       "1  2020-03-04  https://www.nownews.com/news/20200304/3968420/  \n",
       "2  2020-03-04  https://www.nownews.com/news/20200304/3968749/  \n",
       "3  2020-03-04  https://www.nownews.com/news/20200304/3968725/  \n",
       "4  2020-02-06  https://www.nownews.com/news/20200206/3920699/  "
      ]
     },
     "execution_count": 6,
     "metadata": {},
     "output_type": "execute_result"
    }
   ],
   "source": [
    "# Read news test\n",
    "real_news_df.head()"
   ]
  },
  {
   "cell_type": "code",
   "execution_count": 7,
   "metadata": {},
   "outputs": [
    {
     "data": {
      "text/html": [
       "<div>\n",
       "<style scoped>\n",
       "    .dataframe tbody tr th:only-of-type {\n",
       "        vertical-align: middle;\n",
       "    }\n",
       "\n",
       "    .dataframe tbody tr th {\n",
       "        vertical-align: top;\n",
       "    }\n",
       "\n",
       "    .dataframe thead th {\n",
       "        text-align: right;\n",
       "    }\n",
       "</style>\n",
       "<table border=\"1\" class=\"dataframe\">\n",
       "  <thead>\n",
       "    <tr style=\"text-align: right;\">\n",
       "      <th></th>\n",
       "      <th>title</th>\n",
       "      <th>content</th>\n",
       "      <th>author</th>\n",
       "      <th>date</th>\n",
       "      <th>url</th>\n",
       "      <th>brand_id</th>\n",
       "    </tr>\n",
       "  </thead>\n",
       "  <tbody>\n",
       "    <tr>\n",
       "      <th>0</th>\n",
       "      <td>今年下半年，因病去世的川普弟弟Robert Trump，今天被發現他投票給了拜登</td>\n",
       "      <td></td>\n",
       "      <td>事實查核中心</td>\n",
       "      <td>19</td>\n",
       "      <td>2020-11-16</td>\n",
       "      <td></td>\n",
       "    </tr>\n",
       "    <tr>\n",
       "      <th>1</th>\n",
       "      <td>最新超級爆料 ! 美國各州的選票點都在選前安設了秘密監控錄像 所有破壞選舉的罪行 都逃不了朱...</td>\n",
       "      <td></td>\n",
       "      <td>事實查核中心</td>\n",
       "      <td>19</td>\n",
       "      <td>2020-11-13</td>\n",
       "      <td></td>\n",
       "    </tr>\n",
       "    <tr>\n",
       "      <th>2</th>\n",
       "      <td>每天吃一顆血管清道夫-洋蔥，防治心臟病，血管清得超乾淨...吃洋蔥能增加骨質密度、防癌症、防...</td>\n",
       "      <td></td>\n",
       "      <td>事實查核中心</td>\n",
       "      <td>19</td>\n",
       "      <td>2020-11-13</td>\n",
       "      <td></td>\n",
       "    </tr>\n",
       "    <tr>\n",
       "      <th>3</th>\n",
       "      <td>公共汽車司機拒絕打開車門，直到他戴上口罩。 最終他戴上口罩，司機打開車門，他則向司機開槍.....</td>\n",
       "      <td></td>\n",
       "      <td>事實查核中心</td>\n",
       "      <td>19</td>\n",
       "      <td>2020-11-13</td>\n",
       "      <td></td>\n",
       "    </tr>\n",
       "    <tr>\n",
       "      <th>4</th>\n",
       "      <td>美軍已經接管了台灣的空戰指揮系統</td>\n",
       "      <td></td>\n",
       "      <td>事實查核中心</td>\n",
       "      <td>19</td>\n",
       "      <td>2020-11-12</td>\n",
       "      <td></td>\n",
       "    </tr>\n",
       "  </tbody>\n",
       "</table>\n",
       "</div>"
      ],
      "text/plain": [
       "                                               title content  author  date  \\\n",
       "0           今年下半年，因病去世的川普弟弟Robert Trump，今天被發現他投票給了拜登          事實查核中心    19   \n",
       "1  最新超級爆料 ! 美國各州的選票點都在選前安設了秘密監控錄像 所有破壞選舉的罪行 都逃不了朱...          事實查核中心    19   \n",
       "2  每天吃一顆血管清道夫-洋蔥，防治心臟病，血管清得超乾淨...吃洋蔥能增加骨質密度、防癌症、防...          事實查核中心    19   \n",
       "3  公共汽車司機拒絕打開車門，直到他戴上口罩。 最終他戴上口罩，司機打開車門，他則向司機開槍.....          事實查核中心    19   \n",
       "4                                   美軍已經接管了台灣的空戰指揮系統          事實查核中心    19   \n",
       "\n",
       "          url brand_id  \n",
       "0  2020-11-16           \n",
       "1  2020-11-13           \n",
       "2  2020-11-13           \n",
       "3  2020-11-13           \n",
       "4  2020-11-12           "
      ]
     },
     "execution_count": 7,
     "metadata": {},
     "output_type": "execute_result"
    }
   ],
   "source": [
    "# Fake news test\n",
    "fake_news_df.head()"
   ]
  },
  {
   "cell_type": "markdown",
   "metadata": {},
   "source": [
    "## Split dataset"
   ]
  },
  {
   "cell_type": "code",
   "execution_count": 8,
   "metadata": {},
   "outputs": [],
   "source": [
    "# label real dataset\n",
    "real_label = [True]*len(real_news_df)\n",
    "real_news_df['label'] = real_label"
   ]
  },
  {
   "cell_type": "code",
   "execution_count": 9,
   "metadata": {},
   "outputs": [
    {
     "data": {
      "text/html": [
       "<div>\n",
       "<style scoped>\n",
       "    .dataframe tbody tr th:only-of-type {\n",
       "        vertical-align: middle;\n",
       "    }\n",
       "\n",
       "    .dataframe tbody tr th {\n",
       "        vertical-align: top;\n",
       "    }\n",
       "\n",
       "    .dataframe thead th {\n",
       "        text-align: right;\n",
       "    }\n",
       "</style>\n",
       "<table border=\"1\" class=\"dataframe\">\n",
       "  <thead>\n",
       "    <tr style=\"text-align: right;\">\n",
       "      <th></th>\n",
       "      <th>title</th>\n",
       "      <th>content</th>\n",
       "      <th>author</th>\n",
       "      <th>date</th>\n",
       "      <th>url</th>\n",
       "      <th>brand_id</th>\n",
       "      <th>label</th>\n",
       "    </tr>\n",
       "  </thead>\n",
       "  <tbody>\n",
       "    <tr>\n",
       "      <th>0</th>\n",
       "      <td>謠傳碼頭公園有確診案例 調查局約談網友到案</td>\n",
       "      <td>（中央社記者蕭博文台北4日電）調查局今天表示，網路近期謠傳高雄港63號碼頭、台北青年公園出現...</td>\n",
       "      <td>中央社</td>\n",
       "      <td>9</td>\n",
       "      <td>2020-03-04</td>\n",
       "      <td>https://www.nownews.com/news/20200304/3968815/</td>\n",
       "      <td>True</td>\n",
       "    </tr>\n",
       "    <tr>\n",
       "      <th>1</th>\n",
       "      <td>好暖！高醫返國關懷門診　醫護人員進駐機場檢疫站守國門</td>\n",
       "      <td>武漢肺炎國際間疫情不斷擴大，包含韓國、義大利等多個國家被列入我國的旅遊疫情警告地區。高雄醫學...</td>\n",
       "      <td>記者陳美嘉／高雄報導</td>\n",
       "      <td>9</td>\n",
       "      <td>2020-03-04</td>\n",
       "      <td>https://www.nownews.com/news/20200304/3968420/</td>\n",
       "      <td>True</td>\n",
       "    </tr>\n",
       "    <tr>\n",
       "      <th>2</th>\n",
       "      <td>湯景華縱火奪6命遭判死  最高法院發回更審</td>\n",
       "      <td>（中央社記者蕭博文台北4日電）男子湯景華因細故縱火，導致翁家6人身亡，一審、二審、更一審皆被...</td>\n",
       "      <td>中央社</td>\n",
       "      <td>9</td>\n",
       "      <td>2020-03-04</td>\n",
       "      <td>https://www.nownews.com/news/20200304/3968749/</td>\n",
       "      <td>True</td>\n",
       "    </tr>\n",
       "    <tr>\n",
       "      <th>3</th>\n",
       "      <td>更生人車庫包水餃發跡 實現店面網路販售</td>\n",
       "      <td>（中央社記者劉世怡台北4日電）更生人郭珈瑋出獄後，在車庫包手工水餃起家，再透過圓夢創業小額貸...</td>\n",
       "      <td>中央社</td>\n",
       "      <td>9</td>\n",
       "      <td>2020-03-04</td>\n",
       "      <td>https://www.nownews.com/news/20200304/3968725/</td>\n",
       "      <td>True</td>\n",
       "    </tr>\n",
       "    <tr>\n",
       "      <th>4</th>\n",
       "      <td>黑心藥局囤貨　桃園市調處查獲97萬片醫療口罩</td>\n",
       "      <td>武漢肺炎疫情造成全台口罩慌，居然有不肖業者大量囤貨伺機牟利﹔調查局桃園巿調查處日前接獲情資，...</td>\n",
       "      <td>記者李春台 / 桃園報導</td>\n",
       "      <td>9</td>\n",
       "      <td>2020-02-06</td>\n",
       "      <td>https://www.nownews.com/news/20200206/3920699/</td>\n",
       "      <td>True</td>\n",
       "    </tr>\n",
       "  </tbody>\n",
       "</table>\n",
       "</div>"
      ],
      "text/plain": [
       "                        title  \\\n",
       "0       謠傳碼頭公園有確診案例 調查局約談網友到案   \n",
       "1  好暖！高醫返國關懷門診　醫護人員進駐機場檢疫站守國門   \n",
       "2       湯景華縱火奪6命遭判死  最高法院發回更審   \n",
       "3         更生人車庫包水餃發跡 實現店面網路販售   \n",
       "4      黑心藥局囤貨　桃園市調處查獲97萬片醫療口罩   \n",
       "\n",
       "                                             content           author  date  \\\n",
       "0  （中央社記者蕭博文台北4日電）調查局今天表示，網路近期謠傳高雄港63號碼頭、台北青年公園出現...  中央社                 9   \n",
       "1  武漢肺炎國際間疫情不斷擴大，包含韓國、義大利等多個國家被列入我國的旅遊疫情警告地區。高雄醫學...  記者陳美嘉／高雄報導          9   \n",
       "2  （中央社記者蕭博文台北4日電）男子湯景華因細故縱火，導致翁家6人身亡，一審、二審、更一審皆被...  中央社                 9   \n",
       "3  （中央社記者劉世怡台北4日電）更生人郭珈瑋出獄後，在車庫包手工水餃起家，再透過圓夢創業小額貸...  中央社                 9   \n",
       "4  武漢肺炎疫情造成全台口罩慌，居然有不肖業者大量囤貨伺機牟利﹔調查局桃園巿調查處日前接獲情資，...  記者李春台 / 桃園報導        9   \n",
       "\n",
       "          url                                        brand_id  label  \n",
       "0  2020-03-04  https://www.nownews.com/news/20200304/3968815/   True  \n",
       "1  2020-03-04  https://www.nownews.com/news/20200304/3968420/   True  \n",
       "2  2020-03-04  https://www.nownews.com/news/20200304/3968749/   True  \n",
       "3  2020-03-04  https://www.nownews.com/news/20200304/3968725/   True  \n",
       "4  2020-02-06  https://www.nownews.com/news/20200206/3920699/   True  "
      ]
     },
     "execution_count": 9,
     "metadata": {},
     "output_type": "execute_result"
    }
   ],
   "source": [
    "real_news_df.head()"
   ]
  },
  {
   "cell_type": "code",
   "execution_count": 10,
   "metadata": {},
   "outputs": [],
   "source": [
    "# label fake dataset\n",
    "fake_label = [False]*len(fake_news_df)\n",
    "fake_news_df['label'] = fake_label"
   ]
  },
  {
   "cell_type": "code",
   "execution_count": 11,
   "metadata": {},
   "outputs": [
    {
     "data": {
      "text/html": [
       "<div>\n",
       "<style scoped>\n",
       "    .dataframe tbody tr th:only-of-type {\n",
       "        vertical-align: middle;\n",
       "    }\n",
       "\n",
       "    .dataframe tbody tr th {\n",
       "        vertical-align: top;\n",
       "    }\n",
       "\n",
       "    .dataframe thead th {\n",
       "        text-align: right;\n",
       "    }\n",
       "</style>\n",
       "<table border=\"1\" class=\"dataframe\">\n",
       "  <thead>\n",
       "    <tr style=\"text-align: right;\">\n",
       "      <th></th>\n",
       "      <th>title</th>\n",
       "      <th>content</th>\n",
       "      <th>author</th>\n",
       "      <th>date</th>\n",
       "      <th>url</th>\n",
       "      <th>brand_id</th>\n",
       "      <th>label</th>\n",
       "    </tr>\n",
       "  </thead>\n",
       "  <tbody>\n",
       "    <tr>\n",
       "      <th>0</th>\n",
       "      <td>今年下半年，因病去世的川普弟弟Robert Trump，今天被發現他投票給了拜登</td>\n",
       "      <td></td>\n",
       "      <td>事實查核中心</td>\n",
       "      <td>19</td>\n",
       "      <td>2020-11-16</td>\n",
       "      <td></td>\n",
       "      <td>False</td>\n",
       "    </tr>\n",
       "    <tr>\n",
       "      <th>1</th>\n",
       "      <td>最新超級爆料 ! 美國各州的選票點都在選前安設了秘密監控錄像 所有破壞選舉的罪行 都逃不了朱...</td>\n",
       "      <td></td>\n",
       "      <td>事實查核中心</td>\n",
       "      <td>19</td>\n",
       "      <td>2020-11-13</td>\n",
       "      <td></td>\n",
       "      <td>False</td>\n",
       "    </tr>\n",
       "    <tr>\n",
       "      <th>2</th>\n",
       "      <td>每天吃一顆血管清道夫-洋蔥，防治心臟病，血管清得超乾淨...吃洋蔥能增加骨質密度、防癌症、防...</td>\n",
       "      <td></td>\n",
       "      <td>事實查核中心</td>\n",
       "      <td>19</td>\n",
       "      <td>2020-11-13</td>\n",
       "      <td></td>\n",
       "      <td>False</td>\n",
       "    </tr>\n",
       "    <tr>\n",
       "      <th>3</th>\n",
       "      <td>公共汽車司機拒絕打開車門，直到他戴上口罩。 最終他戴上口罩，司機打開車門，他則向司機開槍.....</td>\n",
       "      <td></td>\n",
       "      <td>事實查核中心</td>\n",
       "      <td>19</td>\n",
       "      <td>2020-11-13</td>\n",
       "      <td></td>\n",
       "      <td>False</td>\n",
       "    </tr>\n",
       "    <tr>\n",
       "      <th>4</th>\n",
       "      <td>美軍已經接管了台灣的空戰指揮系統</td>\n",
       "      <td></td>\n",
       "      <td>事實查核中心</td>\n",
       "      <td>19</td>\n",
       "      <td>2020-11-12</td>\n",
       "      <td></td>\n",
       "      <td>False</td>\n",
       "    </tr>\n",
       "  </tbody>\n",
       "</table>\n",
       "</div>"
      ],
      "text/plain": [
       "                                               title content  author  date  \\\n",
       "0           今年下半年，因病去世的川普弟弟Robert Trump，今天被發現他投票給了拜登          事實查核中心    19   \n",
       "1  最新超級爆料 ! 美國各州的選票點都在選前安設了秘密監控錄像 所有破壞選舉的罪行 都逃不了朱...          事實查核中心    19   \n",
       "2  每天吃一顆血管清道夫-洋蔥，防治心臟病，血管清得超乾淨...吃洋蔥能增加骨質密度、防癌症、防...          事實查核中心    19   \n",
       "3  公共汽車司機拒絕打開車門，直到他戴上口罩。 最終他戴上口罩，司機打開車門，他則向司機開槍.....          事實查核中心    19   \n",
       "4                                   美軍已經接管了台灣的空戰指揮系統          事實查核中心    19   \n",
       "\n",
       "          url brand_id  label  \n",
       "0  2020-11-16           False  \n",
       "1  2020-11-13           False  \n",
       "2  2020-11-13           False  \n",
       "3  2020-11-13           False  \n",
       "4  2020-11-12           False  "
      ]
     },
     "execution_count": 11,
     "metadata": {},
     "output_type": "execute_result"
    }
   ],
   "source": [
    "fake_news_df.head()"
   ]
  },
  {
   "cell_type": "code",
   "execution_count": 12,
   "metadata": {},
   "outputs": [],
   "source": [
    "compact_df = pd.concat([real_news_df, fake_news_df], ignore_index=True)"
   ]
  },
  {
   "cell_type": "code",
   "execution_count": 13,
   "metadata": {},
   "outputs": [],
   "source": [
    "# X, Y\n",
    "X = compact_df['title']\n",
    "y = compact_df['label']"
   ]
  },
  {
   "cell_type": "code",
   "execution_count": 14,
   "metadata": {},
   "outputs": [],
   "source": [
    "X_train, X_test, y_train, y_test = train_test_split(X, y, test_size=0.25, random_state=2)"
   ]
  },
  {
   "cell_type": "markdown",
   "metadata": {},
   "source": [
    "## Tfidf vector"
   ]
  },
  {
   "cell_type": "code",
   "execution_count": 15,
   "metadata": {},
   "outputs": [],
   "source": [
    "tfidf_vec = feature_extraction.text.TfidfVectorizer()\n",
    "tfidf_vec.fit(X_train)\n",
    "\n",
    "x_train_tfidf = tfidf_vec.transform(X_train)\n",
    "x_test_tfidf = tfidf_vec.transform(X_test)"
   ]
  },
  {
   "cell_type": "code",
   "execution_count": 16,
   "metadata": {},
   "outputs": [],
   "source": [
    "from sklearn import naive_bayes"
   ]
  },
  {
   "cell_type": "code",
   "execution_count": 17,
   "metadata": {},
   "outputs": [
    {
     "data": {
      "text/plain": [
       "BernoulliNB(alpha=1.0, binarize=0.0, class_prior=None, fit_prior=True)"
      ]
     },
     "execution_count": 17,
     "metadata": {},
     "output_type": "execute_result"
    }
   ],
   "source": [
    "bnb = naive_bayes.BernoulliNB()\n",
    "bnb.fit(x_train_tfidf, y_train)"
   ]
  },
  {
   "cell_type": "code",
   "execution_count": 18,
   "metadata": {},
   "outputs": [
    {
     "name": "stdout",
     "output_type": "stream",
     "text": [
      "accuracy: 0.6157517899761337\n"
     ]
    }
   ],
   "source": [
    "# Predict\n",
    "y_pred = bnb.predict(x_test_tfidf)\n",
    "print('accuracy: {}'.format(metrics.accuracy_score(y_test, y_pred)))"
   ]
  },
  {
   "cell_type": "markdown",
   "metadata": {},
   "source": [
    "# Analysis"
   ]
  },
  {
   "cell_type": "code",
   "execution_count": 20,
   "metadata": {},
   "outputs": [
    {
     "name": "stdout",
     "output_type": "stream",
     "text": [
      "              precision    recall  f1-score   support\n",
      "\n",
      "       False       0.00      0.00      0.00       161\n",
      "        True       0.62      1.00      0.76       258\n",
      "\n",
      "    accuracy                           0.62       419\n",
      "   macro avg       0.31      0.50      0.38       419\n",
      "weighted avg       0.38      0.62      0.47       419\n",
      "\n"
     ]
    },
    {
     "name": "stderr",
     "output_type": "stream",
     "text": [
      "/home/nober/Py3.6m/lib/python3.6/site-packages/sklearn/metrics/classification.py:1437: UndefinedMetricWarning: Precision and F-score are ill-defined and being set to 0.0 in labels with no predicted samples.\n",
      "  'precision', 'predicted', average, warn_for)\n"
     ]
    }
   ],
   "source": [
    "print(metrics.classification_report(y_test, y_pred, target_names=['False', 'True']))"
   ]
  },
  {
   "cell_type": "code",
   "execution_count": 23,
   "metadata": {},
   "outputs": [
    {
     "name": "stdout",
     "output_type": "stream",
     "text": [
      "TP: 0.6157517899761337, TN: 0.0, FP: 0.0, FN:0.38424821002386633\n"
     ]
    }
   ],
   "source": [
    "TP, TN, FP, FN = ([], [], [], [])\n",
    "for i in range(len(y_pred)):\n",
    "    # TP\n",
    "    if y_test.iloc[i] == True and y_pred[i] == True:\n",
    "        TP.append(i)\n",
    "    # TN\n",
    "    if y_test.iloc[i] == False and y_pred[i] == False:\n",
    "        TN.append(i)\n",
    "    # FP\n",
    "    if y_test.iloc[i] == True and y_pred[i] == False:\n",
    "        FP.append(i)\n",
    "    # FN\n",
    "    if y_test.iloc[i] == False and y_pred[i] == True:\n",
    "        FN.append(i)\n",
    "print('TP: {}, TN: {}, FP: {}, FN:{}'.format(len(TP)/len(y_pred), len(TN)/len(y_pred), len(FP)/len(y_pred), len(FN)/len(y_pred)))"
   ]
  },
  {
   "cell_type": "code",
   "execution_count": null,
   "metadata": {},
   "outputs": [],
   "source": []
  },
  {
   "cell_type": "code",
   "execution_count": null,
   "metadata": {},
   "outputs": [],
   "source": []
  },
  {
   "cell_type": "code",
   "execution_count": null,
   "metadata": {},
   "outputs": [],
   "source": []
  },
  {
   "cell_type": "code",
   "execution_count": null,
   "metadata": {},
   "outputs": [],
   "source": []
  }
 ],
 "metadata": {
  "kernelspec": {
   "display_name": "Python 3",
   "language": "python",
   "name": "python3"
  },
  "language_info": {
   "codemirror_mode": {
    "name": "ipython",
    "version": 3
   },
   "file_extension": ".py",
   "mimetype": "text/x-python",
   "name": "python",
   "nbconvert_exporter": "python",
   "pygments_lexer": "ipython3",
   "version": "3.6.5"
  }
 },
 "nbformat": 4,
 "nbformat_minor": 2
}
