{
 "cells": [
  {
   "cell_type": "code",
   "execution_count": 2,
   "metadata": {},
   "outputs": [],
   "source": [
    "import json\n",
    "import pandas as pd\n",
    "from sklearn import preprocessing, model_selection, feature_extraction, naive_bayes, metrics"
   ]
  },
  {
   "cell_type": "code",
   "execution_count": 3,
   "metadata": {},
   "outputs": [],
   "source": [
    "# Json to csv\n",
    "def json2df(json_obj):\n",
    "    \n",
    "    ls = []\n",
    "    for row in json_obj:\n",
    "        ls.append([\n",
    "            row['title'],\n",
    "            row['content'],\n",
    "            row['author'],\n",
    "            row['brand_id'],\n",
    "            row['date'],\n",
    "            row['url']\n",
    "        ])\n",
    "    \n",
    "    col = [\n",
    "            'title',\n",
    "            'content',\n",
    "            'author',\n",
    "            'date',\n",
    "            'url',\n",
    "            'brand_id'\n",
    "        ]\n",
    "    \n",
    "    return pd.DataFrame(ls, columns=col)"
   ]
  },
  {
   "cell_type": "code",
   "execution_count": 4,
   "metadata": {},
   "outputs": [],
   "source": [
    "# Import dataset\n",
    "\n",
    "## Read news\n",
    "with open('./data/real_news_dump.json') as file:\n",
    "    real_news = json.load(file)\n",
    "\n",
    "real_news_df = json2df(real_news)\n",
    "\n",
    "## Fake news\n",
    "with open('./data/fake_news_dump.json') as file:\n",
    "    fake_news = json.load(file)\n",
    "    \n",
    "fake_news_df = json2df(fake_news)"
   ]
  },
  {
   "cell_type": "markdown",
   "metadata": {},
   "source": [
    "# Label dataset"
   ]
  },
  {
   "cell_type": "code",
   "execution_count": 8,
   "metadata": {},
   "outputs": [],
   "source": [
    "# label real dataset\n",
    "real_label = [True]*len(real_news_df)\n",
    "real_news_df['label'] = real_label\n",
    "real_news_df = real_news_df.dropna()"
   ]
  },
  {
   "cell_type": "code",
   "execution_count": 9,
   "metadata": {},
   "outputs": [],
   "source": [
    "# label fake dataset\n",
    "fake_label = [False]*len(fake_news_df)\n",
    "fake_news_df['label'] = fake_label\n",
    "fake_news_df = fake_news_df.dropna()"
   ]
  },
  {
   "cell_type": "markdown",
   "metadata": {},
   "source": [
    "# Prepare dataset"
   ]
  },
  {
   "cell_type": "code",
   "execution_count": 10,
   "metadata": {},
   "outputs": [],
   "source": [
    "compact_df = pd.concat([real_news_df, fake_news_df], ignore_index=True)"
   ]
  },
  {
   "cell_type": "code",
   "execution_count": 11,
   "metadata": {},
   "outputs": [
    {
     "data": {
      "text/html": [
       "<div>\n",
       "<style scoped>\n",
       "    .dataframe tbody tr th:only-of-type {\n",
       "        vertical-align: middle;\n",
       "    }\n",
       "\n",
       "    .dataframe tbody tr th {\n",
       "        vertical-align: top;\n",
       "    }\n",
       "\n",
       "    .dataframe thead th {\n",
       "        text-align: right;\n",
       "    }\n",
       "</style>\n",
       "<table border=\"1\" class=\"dataframe\">\n",
       "  <thead>\n",
       "    <tr style=\"text-align: right;\">\n",
       "      <th></th>\n",
       "      <th>title</th>\n",
       "      <th>content</th>\n",
       "      <th>author</th>\n",
       "      <th>date</th>\n",
       "      <th>url</th>\n",
       "      <th>brand_id</th>\n",
       "      <th>label</th>\n",
       "    </tr>\n",
       "  </thead>\n",
       "  <tbody>\n",
       "    <tr>\n",
       "      <th>0</th>\n",
       "      <td>謠傳碼頭公園有確診案例 調查局約談網友到案</td>\n",
       "      <td>（中央社記者蕭博文台北4日電）調查局今天表示，網路近期謠傳高雄港63號碼頭、台北青年公園出現...</td>\n",
       "      <td>中央社</td>\n",
       "      <td>9</td>\n",
       "      <td>2020-03-04</td>\n",
       "      <td>https://www.nownews.com/news/20200304/3968815/</td>\n",
       "      <td>True</td>\n",
       "    </tr>\n",
       "    <tr>\n",
       "      <th>1</th>\n",
       "      <td>好暖！高醫返國關懷門診　醫護人員進駐機場檢疫站守國門</td>\n",
       "      <td>武漢肺炎國際間疫情不斷擴大，包含韓國、義大利等多個國家被列入我國的旅遊疫情警告地區。高雄醫學...</td>\n",
       "      <td>記者陳美嘉／高雄報導</td>\n",
       "      <td>9</td>\n",
       "      <td>2020-03-04</td>\n",
       "      <td>https://www.nownews.com/news/20200304/3968420/</td>\n",
       "      <td>True</td>\n",
       "    </tr>\n",
       "    <tr>\n",
       "      <th>2</th>\n",
       "      <td>湯景華縱火奪6命遭判死  最高法院發回更審</td>\n",
       "      <td>（中央社記者蕭博文台北4日電）男子湯景華因細故縱火，導致翁家6人身亡，一審、二審、更一審皆被...</td>\n",
       "      <td>中央社</td>\n",
       "      <td>9</td>\n",
       "      <td>2020-03-04</td>\n",
       "      <td>https://www.nownews.com/news/20200304/3968749/</td>\n",
       "      <td>True</td>\n",
       "    </tr>\n",
       "    <tr>\n",
       "      <th>3</th>\n",
       "      <td>更生人車庫包水餃發跡 實現店面網路販售</td>\n",
       "      <td>（中央社記者劉世怡台北4日電）更生人郭珈瑋出獄後，在車庫包手工水餃起家，再透過圓夢創業小額貸...</td>\n",
       "      <td>中央社</td>\n",
       "      <td>9</td>\n",
       "      <td>2020-03-04</td>\n",
       "      <td>https://www.nownews.com/news/20200304/3968725/</td>\n",
       "      <td>True</td>\n",
       "    </tr>\n",
       "    <tr>\n",
       "      <th>4</th>\n",
       "      <td>黑心藥局囤貨　桃園市調處查獲97萬片醫療口罩</td>\n",
       "      <td>武漢肺炎疫情造成全台口罩慌，居然有不肖業者大量囤貨伺機牟利﹔調查局桃園巿調查處日前接獲情資，...</td>\n",
       "      <td>記者李春台 / 桃園報導</td>\n",
       "      <td>9</td>\n",
       "      <td>2020-02-06</td>\n",
       "      <td>https://www.nownews.com/news/20200206/3920699/</td>\n",
       "      <td>True</td>\n",
       "    </tr>\n",
       "  </tbody>\n",
       "</table>\n",
       "</div>"
      ],
      "text/plain": [
       "                        title  \\\n",
       "0       謠傳碼頭公園有確診案例 調查局約談網友到案   \n",
       "1  好暖！高醫返國關懷門診　醫護人員進駐機場檢疫站守國門   \n",
       "2       湯景華縱火奪6命遭判死  最高法院發回更審   \n",
       "3         更生人車庫包水餃發跡 實現店面網路販售   \n",
       "4      黑心藥局囤貨　桃園市調處查獲97萬片醫療口罩   \n",
       "\n",
       "                                             content           author  date  \\\n",
       "0  （中央社記者蕭博文台北4日電）調查局今天表示，網路近期謠傳高雄港63號碼頭、台北青年公園出現...  中央社                 9   \n",
       "1  武漢肺炎國際間疫情不斷擴大，包含韓國、義大利等多個國家被列入我國的旅遊疫情警告地區。高雄醫學...  記者陳美嘉／高雄報導          9   \n",
       "2  （中央社記者蕭博文台北4日電）男子湯景華因細故縱火，導致翁家6人身亡，一審、二審、更一審皆被...  中央社                 9   \n",
       "3  （中央社記者劉世怡台北4日電）更生人郭珈瑋出獄後，在車庫包手工水餃起家，再透過圓夢創業小額貸...  中央社                 9   \n",
       "4  武漢肺炎疫情造成全台口罩慌，居然有不肖業者大量囤貨伺機牟利﹔調查局桃園巿調查處日前接獲情資，...  記者李春台 / 桃園報導        9   \n",
       "\n",
       "          url                                        brand_id  label  \n",
       "0  2020-03-04  https://www.nownews.com/news/20200304/3968815/   True  \n",
       "1  2020-03-04  https://www.nownews.com/news/20200304/3968420/   True  \n",
       "2  2020-03-04  https://www.nownews.com/news/20200304/3968749/   True  \n",
       "3  2020-03-04  https://www.nownews.com/news/20200304/3968725/   True  \n",
       "4  2020-02-06  https://www.nownews.com/news/20200206/3920699/   True  "
      ]
     },
     "execution_count": 11,
     "metadata": {},
     "output_type": "execute_result"
    }
   ],
   "source": [
    "compact_df.head()"
   ]
  },
  {
   "cell_type": "code",
   "execution_count": 19,
   "metadata": {},
   "outputs": [],
   "source": [
    "X = compact_df['title']"
   ]
  },
  {
   "cell_type": "markdown",
   "metadata": {},
   "source": [
    "# Pipeline"
   ]
  },
  {
   "cell_type": "code",
   "execution_count": 21,
   "metadata": {},
   "outputs": [],
   "source": [
    "from sklearn.pipeline import Pipeline\n",
    "from sklearn.cluster import KMeans\n",
    "from sklearn.decomposition import PCA"
   ]
  },
  {
   "cell_type": "code",
   "execution_count": 39,
   "metadata": {},
   "outputs": [],
   "source": [
    "class K_means:\n",
    "    def __init__(self, n_c=3):\n",
    "        self.tfidf = feature_extraction.text.TfidfVectorizer()\n",
    "        self.kMeans = KMeans(n_clusters=n_c, random_state=0)\n",
    "\n",
    "    def fit_transform(self, X):\n",
    "        self.X = X\n",
    "        self.X_tfidf = self.tfidf.fit_transform(X)\n",
    "#         self.X_PCA = PCA(n_components=2).fit_transform(self.X_tfidf)\n",
    "        self.kMeans.fit(self.X_tfidf)\n",
    "        return self.kMeans.labels_\n",
    "    \n",
    "    def vis(self):\n",
    "        pass"
   ]
  },
  {
   "cell_type": "code",
   "execution_count": 40,
   "metadata": {},
   "outputs": [],
   "source": [
    "def kMeans_statistics(df, clustering_label, n_c=3):\n",
    "    \n",
    "    real_news = [0]*n_c\n",
    "    fake_news = [0]*n_c\n",
    "    \n",
    "    label = df['label']\n",
    "    \n",
    "    assert len(clustering_label) == len(label), \"wrong length\"\n",
    "    \n",
    "    for c_l, l in zip(clustering_label, label):\n",
    "        if l == True:\n",
    "            real_news[c_l] += 1\n",
    "        if l == False:\n",
    "            fake_news[c_l] += 1\n",
    "        \n",
    "    \n",
    "    print(\"=\"*60)\n",
    "    print('real news distribution : {:>3d} {:>3d} {:>3d}'.format(real_news[0], real_news[1], real_news[2]))\n",
    "    print('fake news distribution : {:>3d} {:>3d} {:>3d}'.format(fake_news[0], fake_news[1], fake_news[2]))\n",
    "        "
   ]
  },
  {
   "cell_type": "code",
   "execution_count": 44,
   "metadata": {},
   "outputs": [],
   "source": [
    "k = K_means(n_c=2)\n",
    "c_l = k.fit_transform(X)"
   ]
  },
  {
   "cell_type": "code",
   "execution_count": 46,
   "metadata": {},
   "outputs": [
    {
     "name": "stdout",
     "output_type": "stream",
     "text": [
      "============================================================\n",
      "real news distribution : 770 230   0\n",
      "fake news distribution : 674   0   0\n"
     ]
    }
   ],
   "source": [
    "kMeans_statistics(compact_df, c_l, n_c=3)"
   ]
  },
  {
   "cell_type": "markdown",
   "metadata": {},
   "source": [
    "# Cosine similarity"
   ]
  },
  {
   "cell_type": "code",
   "execution_count": 48,
   "metadata": {},
   "outputs": [],
   "source": [
    "from sklearn.metrics.pairwise import cosine_similarity"
   ]
  },
  {
   "cell_type": "code",
   "execution_count": 50,
   "metadata": {},
   "outputs": [],
   "source": [
    "tfidf = feature_extraction.text.TfidfVectorizer()\n",
    "tfidf_x = tfidf.fit_transform(X)\n",
    "cos_x = cosine_similarity(tfidf_x)"
   ]
  },
  {
   "cell_type": "markdown",
   "metadata": {},
   "source": [
    "# Clustering"
   ]
  },
  {
   "cell_type": "code",
   "execution_count": 62,
   "metadata": {},
   "outputs": [],
   "source": [
    "import os\n",
    "import pandas as pd\n",
    "import numpy as np\n",
    "import tensorflow.compat.v2 as tf\n",
    "try:\n",
    "    from tensorflow_text import SentencepieceTokenizer\n",
    "    import tensorflow_hub as hub\n",
    "except ModuleNotFoundError:\n",
    "    pass\n",
    "import sklearn.metrics.pairwise\n",
    "from sklearn.metrics.pairwise import cosine_similarity\n",
    "from sklearn.cluster import DBSCAN"
   ]
  },
  {
   "cell_type": "code",
   "execution_count": null,
   "metadata": {},
   "outputs": [],
   "source": [
    "class Clustering:\n",
    "    def __init__(self):\n",
    "        pass\n",
    "    \n",
    "    def getModel(self):\n",
    "        model = hub.load('https://tfhub.dev/google/universal-sentence-encoder-multilingual/3')\n",
    "        return model\n",
    "    \n",
    "    def embed_text(self, model, text):\n",
    "        return model(text)\n",
    "    \n",
    "    def getEmbed(self, query_set):\n",
    "        model = self.getModel()\n",
    "        news_list = []\n",
    "        for query in query_set:\n",
    "            content = query.content\n",
    "            content = self.remove_covid_message(content)\n",
    "            news_list.append(content)\n",
    "        news = self.embed_text(model, news_list)\n",
    "        return news\n",
    "    \n",
    "    def cos_sim(self, input_vectors):\n",
    "        similarity = cosine_similarity(input_vectors)\n",
    "        return similarity\n",
    "    \n",
    "    \n",
    "    def getNewsCluster(self, similarity):\n",
    "        "
   ]
  }
 ],
 "metadata": {
  "kernelspec": {
   "display_name": "Python 3",
   "language": "python",
   "name": "python3"
  },
  "language_info": {
   "codemirror_mode": {
    "name": "ipython",
    "version": 3
   },
   "file_extension": ".py",
   "mimetype": "text/x-python",
   "name": "python",
   "nbconvert_exporter": "python",
   "pygments_lexer": "ipython3",
   "version": "3.6.5"
  }
 },
 "nbformat": 4,
 "nbformat_minor": 2
}
